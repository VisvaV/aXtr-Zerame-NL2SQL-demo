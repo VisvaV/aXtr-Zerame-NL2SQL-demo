{
  "nbformat": 4,
  "nbformat_minor": 0,
  "metadata": {
    "colab": {
      "provenance": [],
      "authorship_tag": "ABX9TyOUlcjS6KMr5FLC/qDiQR8v",
      "include_colab_link": true
    },
    "kernelspec": {
      "name": "python3",
      "display_name": "Python 3"
    },
    "language_info": {
      "name": "python"
    }
  },
  "cells": [
    {
      "cell_type": "markdown",
      "metadata": {
        "id": "view-in-github",
        "colab_type": "text"
      },
      "source": [
        "<a href=\"https://colab.research.google.com/github/VisvaV/aXtr-Zerame-NL2SQL-demo/blob/main/nl2sqldemo.ipynb\" target=\"_parent\"><img src=\"https://colab.research.google.com/assets/colab-badge.svg\" alt=\"Open In Colab\"/></a>"
      ]
    },
    {
      "cell_type": "code",
      "execution_count": null,
      "metadata": {
        "id": "NSVrl7F5Ste2"
      },
      "outputs": [],
      "source": [
        "!pip install -U langchain langchain-community langchain-openai langchain-google-genai\n",
        "!pip install sqlalchemy chromadb -q\n"
      ]
    },
    {
      "cell_type": "code",
      "source": [
        "import os\n",
        "import re\n",
        "import sqlite3\n",
        "import pandas as pd\n",
        "from operator import itemgetter\n",
        "from langchain_google_genai import GoogleGenerativeAI, GoogleGenerativeAIEmbeddings\n",
        "from langchain_community.utilities import SQLDatabase\n",
        "from langchain.chains import create_sql_query_chain, LLMChain\n",
        "from langchain_core.runnables import RunnableLambda, RunnablePassthrough\n",
        "from langchain_core.prompts import PromptTemplate, ChatPromptTemplate, MessagesPlaceholder, FewShotChatMessagePromptTemplate\n",
        "from langchain_core.output_parsers import StrOutputParser\n",
        "from langchain_community.tools.sql_database.tool import QuerySQLDataBaseTool\n",
        "from langchain.memory import ChatMessageHistory\n",
        "from langchain_core.example_selectors import SemanticSimilarityExampleSelector\n",
        "from langchain_community.vectorstores import Chroma\n",
        "from langchain_core.messages import HumanMessage, AIMessage\n"
      ],
      "metadata": {
        "id": "_OhuFDtzTT-B"
      },
      "execution_count": 1,
      "outputs": []
    },
    {
      "cell_type": "code",
      "source": [
        "from google.colab import userdata\n",
        "import os\n",
        "\n",
        "os.environ[\"GOOGLE_API_KEY\"] = userdata.get(\"GOOGLE_API_KEY\")\n",
        "\n",
        "from langchain_google_genai import GoogleGenerativeAI\n",
        "llm = GoogleGenerativeAI(model=\"gemini-2.0-flash\")\n"
      ],
      "metadata": {
        "id": "JfnIlvQlUV-a"
      },
      "execution_count": 6,
      "outputs": []
    },
    {
      "cell_type": "code",
      "source": [
        "db_path = \"/content/nl2sql_demo.sqlite\"\n",
        "db = SQLDatabase.from_uri(f\"sqlite:///{db_path}\")\n"
      ],
      "metadata": {
        "id": "8FbP7qt7TYlc"
      },
      "execution_count": 2,
      "outputs": []
    },
    {
      "cell_type": "code",
      "source": [
        "\n",
        "examples = [\n",
        "    {\n",
        "        \"input\": \"List all customers located in France.\",\n",
        "        \"query\": \"SELECT customerName FROM customers WHERE country = 'France';\"\n",
        "    },\n",
        "    {\n",
        "        \"input\": \"Find the total number of orders placed by customer number 101.\",\n",
        "        \"query\": \"SELECT COUNT(*) FROM orders WHERE customerNumber = 101;\"\n",
        "    },\n",
        "    {\n",
        "        \"input\": \"Get the names of products that are in the 'Classic Cars' product line.\",\n",
        "        \"query\": \"SELECT productName FROM products WHERE productLine = 'Classic Cars';\"\n",
        "    },\n",
        "    {\n",
        "        \"input\": \"What are the order dates for orders with status 'Shipped'?\",\n",
        "        \"query\": \"SELECT orderDate FROM orders WHERE status = 'Shipped';\"\n",
        "    }\n",
        "]\n"
      ],
      "metadata": {
        "id": "y-CadoHRTbll"
      },
      "execution_count": 3,
      "outputs": []
    },
    {
      "cell_type": "code",
      "source": [
        "\n",
        "example_prompt = ChatPromptTemplate.from_messages([\n",
        "    (\"human\", \"{input}\\nSQLQuery:\"),\n",
        "    (\"ai\", \"{query}\"),\n",
        "])\n",
        "\n",
        "embeddings = GoogleGenerativeAIEmbeddings(model=\"models/embedding-001\")\n",
        "vectorstore = Chroma(embedding_function=embeddings)\n",
        "vectorstore.delete_collection()\n",
        "\n",
        "example_selector = SemanticSimilarityExampleSelector.from_examples(\n",
        "    examples=examples,\n",
        "    embeddings=embeddings,\n",
        "    vectorstore_cls=Chroma,\n",
        "    k=2,\n",
        "    input_keys=[\"input\"]\n",
        ")\n",
        "\n",
        "few_shot_prompt = FewShotChatMessagePromptTemplate(\n",
        "    example_prompt=example_prompt,\n",
        "    example_selector=example_selector,\n",
        "    input_variables=[\"input\"]\n",
        ")\n"
      ],
      "metadata": {
        "id": "WMHX0lTMTdt6"
      },
      "execution_count": 7,
      "outputs": []
    },
    {
      "cell_type": "code",
      "source": [
        "\n",
        "table_details = db.get_table_info()\n",
        "table_details"
      ],
      "metadata": {
        "colab": {
          "base_uri": "https://localhost:8080/",
          "height": 226
        },
        "id": "KAldn6xtTfTi",
        "outputId": "878e8401-8cc2-41bb-aecd-631c3df42853"
      },
      "execution_count": 9,
      "outputs": [
        {
          "output_type": "execute_result",
          "data": {
            "text/plain": [
              "'\\nCREATE TABLE customers (\\n\\t\"customerNumber\" INTEGER, \\n\\t\"customerName\" TEXT, \\n\\tcountry TEXT, \\n\\tPRIMARY KEY (\"customerNumber\")\\n)\\n\\n/*\\n3 rows from customers table:\\ncustomerNumber\\tcustomerName\\tcountry\\n101\\tAlice\\tUSA\\n102\\tBob\\tFrance\\n103\\tCharlie\\tIndia\\n*/\\n\\n\\nCREATE TABLE orders (\\n\\t\"orderNumber\" INTEGER, \\n\\t\"customerNumber\" INTEGER, \\n\\t\"orderDate\" TEXT, \\n\\tstatus TEXT, \\n\\tPRIMARY KEY (\"orderNumber\"), \\n\\tFOREIGN KEY(\"customerNumber\") REFERENCES customers (\"customerNumber\")\\n)\\n\\n/*\\n3 rows from orders table:\\norderNumber\\tcustomerNumber\\torderDate\\tstatus\\n1001\\t101\\t2023-01-01\\tShipped\\n1002\\t102\\t2023-01-02\\tPending\\n1003\\t101\\t2023-01-03\\tShipped\\n*/\\n\\n\\nCREATE TABLE products (\\n\\t\"productCode\" TEXT, \\n\\t\"productName\" TEXT, \\n\\t\"productLine\" TEXT, \\n\\t\"quantityInStock\" INTEGER, \\n\\t\"buyPrice\" REAL, \\n\\t\"MSRP\" REAL, \\n\\tPRIMARY KEY (\"productCode\")\\n)\\n\\n/*\\n3 rows from products table:\\nproductCode\\tproductName\\tproductLine\\tquantityInStock\\tbuyPrice\\tMSRP\\nS10_1001\\tAkshay Thar\\tClassic Cars\\t10\\t500000.0\\t95.0\\nS10_1002\\tFerrari F8\\tSports Cars\\t5\\t700000.0\\t120.0\\nS10_1003\\tJeep Wrangler\\tClassic Cars\\t8\\t450000.0\\t90.0\\n*/'"
            ],
            "application/vnd.google.colaboratory.intrinsic+json": {
              "type": "string"
            }
          },
          "metadata": {},
          "execution_count": 9
        }
      ]
    },
    {
      "cell_type": "code",
      "source": [
        "from langchain.prompts import PromptTemplate\n",
        "\n",
        "final_prompt = PromptTemplate(\n",
        "    input_variables=[\"input\", \"table_info\", \"top_k\"],\n",
        "    template=\"\"\"\n",
        "You are a SQLite expert. Given an input question, first create a syntactically correct SQL query to run, then provide the answer.\n",
        "Use only the tables listed below:\n",
        "\n",
        "{table_info}\n",
        "\n",
        "Use at most {top_k} relevant columns.\n",
        "\n",
        "Question: {input}\n",
        "SQLQuery:\n",
        "\"\"\".strip()\n",
        ")\n"
      ],
      "metadata": {
        "id": "wYdKKUZSTgza"
      },
      "execution_count": 15,
      "outputs": []
    },
    {
      "cell_type": "code",
      "source": [
        "\n",
        "generate_query = create_sql_query_chain(llm, db, final_prompt)\n",
        "execute_query = QuerySQLDataBaseTool(db=db)\n"
      ],
      "metadata": {
        "colab": {
          "base_uri": "https://localhost:8080/"
        },
        "id": "L__iDGoHTiY8",
        "outputId": "2564c0b6-0dd9-4583-ca57-e068d66fc6ab"
      },
      "execution_count": 16,
      "outputs": [
        {
          "output_type": "stream",
          "name": "stderr",
          "text": [
            "<ipython-input-16-605b69def308>:2: LangChainDeprecationWarning: The class `QuerySQLDataBaseTool` was deprecated in LangChain 0.3.12 and will be removed in 1.0. An updated version of the class exists in the :class:`~langchain-community package and should be used instead. To use it run `pip install -U :class:`~langchain-community` and import as `from :class:`~langchain_community.tools import QuerySQLDatabaseTool``.\n",
            "  execute_query = QuerySQLDataBaseTool(db=db)\n"
          ]
        }
      ]
    },
    {
      "cell_type": "code",
      "source": [
        "\n",
        "def clean_sql_query(sql_string: str) -> str:\n",
        "    sql = re.sub(r\"```[\\w]*\\n([\\s\\S]*?)```\", r\"\\1\", sql_string).strip()\n",
        "    sql = re.sub(r\"^(AI:|Answer:)\\s*\", \"\", sql, flags=re.IGNORECASE).strip()\n",
        "    return sql\n",
        "\n",
        "strip_fences = RunnableLambda(clean_generated_sql)\n"
      ],
      "metadata": {
        "id": "i-X4MHYCTj46"
      },
      "execution_count": 24,
      "outputs": []
    },
    {
      "cell_type": "code",
      "source": [
        "\n",
        "rephrase_prompt = PromptTemplate.from_template(\"\"\"\n",
        "Given the following user question, SQL query, and SQL result, answer the question in natural language.\n",
        "\n",
        "Question: {question}\n",
        "SQL Query: {query}\n",
        "SQL Result: {result}\n",
        "Answer:\n",
        "\"\"\")\n",
        "rephrase_answer = rephrase_prompt | llm | StrOutputParser()\n"
      ],
      "metadata": {
        "id": "Iu4WMtmGTlUj"
      },
      "execution_count": 25,
      "outputs": []
    },
    {
      "cell_type": "code",
      "source": [
        "\n",
        "history = ChatMessageHistory()\n",
        ""
      ],
      "metadata": {
        "id": "8sLTb9ojTmjC"
      },
      "execution_count": 26,
      "outputs": []
    },
    {
      "cell_type": "code",
      "source": [
        "from operator import itemgetter\n",
        "from langchain_core.runnables import RunnableLambda, RunnablePassthrough\n",
        "\n",
        "chain = (\n",
        "    RunnablePassthrough\n",
        "    .assign(question=itemgetter(\"question\"))\n",
        "    .assign(query=lambda x: generate_query.invoke({\n",
        "        \"question\": x[\"question\"],\n",
        "        \"table_info\": x[\"table_info\"],\n",
        "        \"top_k\": x.get(\"top_k\", 5)\n",
        "    }))\n",
        "    .assign(query=itemgetter(\"query\") | RunnableLambda(clean_sql_query))\n",
        "    .assign(result=itemgetter(\"query\") | execute_query)\n",
        "    | rephrase_answer\n",
        ")\n"
      ],
      "metadata": {
        "id": "p0R8j_jrTnTT"
      },
      "execution_count": 27,
      "outputs": []
    },
    {
      "cell_type": "code",
      "source": [
        "response = chain.invoke({\n",
        "    \"question\": \"List the product names in Classic Cars\",\n",
        "    \"table_info\": table_details,\n",
        "    \"top_k\": 5\n",
        "})\n"
      ],
      "metadata": {
        "id": "MchJEanaTpsS"
      },
      "execution_count": 28,
      "outputs": []
    },
    {
      "cell_type": "code",
      "source": [
        "followup = \"What is their stock count?\"\n",
        "response2 = chain.invoke({\n",
        "    \"question\": followup,\n",
        "    \"table_info\": table_details,\n",
        "    \"top_k\": 5\n",
        "})\n",
        "history.add_user_message(followup)\n",
        "history.add_ai_message(response2)\n",
        "print(response2)\n"
      ],
      "metadata": {
        "colab": {
          "base_uri": "https://localhost:8080/"
        },
        "id": "r2kHyJMnTqO3",
        "outputId": "ff7123fd-285d-48af-9329-442f7e6a56b6"
      },
      "execution_count": 30,
      "outputs": [
        {
          "output_type": "stream",
          "name": "stdout",
          "text": [
            "The stock count for Akshay Thar is 10, for Ferrari F8 it is 5, and for Jeep Wrangler it is 8.\n"
          ]
        }
      ]
    }
  ]
}